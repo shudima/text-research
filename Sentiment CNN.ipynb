{
 "cells": [
  {
   "cell_type": "code",
   "execution_count": 1,
   "metadata": {
    "collapsed": true
   },
   "outputs": [],
   "source": [
    "from __future__ import division\n",
    "%matplotlib inline\n",
    "import matplotlib.pyplot as plt\n",
    "import tensorflow as tf\n",
    "import numpy as np\n"
   ]
  },
  {
   "cell_type": "code",
   "execution_count": 2,
   "metadata": {
    "collapsed": false
   },
   "outputs": [
    {
     "name": "stdout",
     "output_type": "stream",
     "text": [
      "X shape: (20000, 42)\n",
      "Y shape: (20000, 3)\n"
     ]
    }
   ],
   "source": [
    "X = np.load('/home/dima/Data/sentiment_data_x.npy')\n",
    "Y = np.load('/home/dima/Data/sentiment_data_y.npy')\n",
    "X_test = X[20000:,:]\n",
    "Y_test = Y[20000:,:]\n",
    "X = X[:20000,:]\n",
    "Y = Y[:20000,:]\n",
    "print 'X shape: ' + str(X.shape)\n",
    "print 'Y shape: ' + str(Y.shape)"
   ]
  },
  {
   "cell_type": "code",
   "execution_count": 3,
   "metadata": {
    "collapsed": false
   },
   "outputs": [
    {
     "data": {
      "text/plain": [
       "0.21265000000000001"
      ]
     },
     "execution_count": 3,
     "metadata": {},
     "output_type": "execute_result"
    }
   ],
   "source": [
    "np.mean(Y[:,2])"
   ]
  },
  {
   "cell_type": "code",
   "execution_count": 4,
   "metadata": {
    "collapsed": false
   },
   "outputs": [
    {
     "data": {
      "text/plain": [
       "21656"
      ]
     },
     "execution_count": 4,
     "metadata": {},
     "output_type": "execute_result"
    }
   ],
   "source": [
    "vocab = np.load('/home/dima/Data/sentiment_vocab.npy')\n",
    "len(vocab)"
   ]
  },
  {
   "cell_type": "code",
   "execution_count": 5,
   "metadata": {
    "collapsed": false
   },
   "outputs": [
    {
     "name": "stdout",
     "output_type": "stream",
     "text": [
      "21656 300 42 3\n"
     ]
    }
   ],
   "source": [
    "vocab_size = len(vocab)\n",
    "embedding_size = 300\n",
    "sequence_size = X.shape[1]\n",
    "num_classes = Y.shape[1]\n",
    "\n",
    "print vocab_size, embedding_size, sequence_size, num_classes"
   ]
  },
  {
   "cell_type": "code",
   "execution_count": 6,
   "metadata": {
    "collapsed": false
   },
   "outputs": [],
   "source": [
    "input_x = tf.placeholder(tf.int32, [None, sequence_size], name=\"input_x\")\n",
    "input_y = tf.placeholder(tf.float32, [None, num_classes], name=\"input_y\")"
   ]
  },
  {
   "cell_type": "code",
   "execution_count": 7,
   "metadata": {
    "collapsed": false
   },
   "outputs": [],
   "source": [
    "W_embed = tf.Variable(tf.random_uniform([vocab_size, embedding_size], -1.0, 1.0), name=\"W_embed\")\n",
    "embed_chars = tf.nn.embedding_lookup(W_embed, input_x)\n",
    "embed_chars_expanded = tf.expand_dims(embed_chars, -1)"
   ]
  },
  {
   "cell_type": "code",
   "execution_count": 8,
   "metadata": {
    "collapsed": true
   },
   "outputs": [],
   "source": [
    "\n",
    "    def weight_variable(shape):\n",
    "        initial = tf.truncated_normal(shape, stddev=0.1)\n",
    "        return tf.Variable(initial)\n",
    "\n",
    "    def bias_variable(shape):\n",
    "        initial = tf.constant(0.1, shape=shape)\n",
    "        return tf.Variable(initial)\n",
    "\n",
    "    def conv2d(x, W):\n",
    "        return tf.nn.conv2d(x, W, strides=[1,1,1,1], padding='VALID')\n",
    "\n",
    "    def max_pool(x):\n",
    "        return tf.nn.max_pool(x, [1, 41, 1, 1], strides=[1,1,1,1], padding='VALID')\n",
    "\n",
    "\n",
    "    def add_filter(num_of_words):\n",
    "        W_conv = weight_variable([num_of_words,embedding_size,1,10])\n",
    "        b_conv = bias_variable([10])\n",
    "        h_conv = tf.nn.relu(conv2d(embed_chars_expanded, W_conv) + b_conv)\n",
    "        h_pool = max_pool(h_conv)\n",
    "\n",
    "        return h_pool, h_conv, W_conv"
   ]
  },
  {
   "cell_type": "code",
   "execution_count": 9,
   "metadata": {
    "collapsed": false
   },
   "outputs": [],
   "source": [
    "filter = add_filter(2)\n",
    "h_conv = filter[1]\n",
    "W_conv = filter[2]\n",
    "\n",
    "\n",
    "h_pool = tf.concat(3, [filter[0]])\n",
    "h_pool_flat = tf.reshape(h_pool, [-1, 10])\n"
   ]
  },
  {
   "cell_type": "code",
   "execution_count": 10,
   "metadata": {
    "collapsed": false
   },
   "outputs": [
    {
     "name": "stdout",
     "output_type": "stream",
     "text": [
      "embed_chars: (20, 42, 300)\n",
      "embed_chars_expanded: (20, 42, 300, 1)\n",
      "W_conv: (2, 300, 1, 10)\n",
      "h_conv: (20, 41, 1, 10)\n",
      "h_pool: (20, 1, 1, 10)\n",
      "h_pool_flat: (20, 10)\n"
     ]
    }
   ],
   "source": [
    "sess = tf.InteractiveSession()\n",
    "sess.run(tf.initialize_all_variables())\n",
    "\n",
    "\n",
    "to_run = [embed_chars, embed_chars_expanded, W_conv, h_conv, h_pool, h_pool_flat]\n",
    "result =  sess.run(to_run, feed_dict={input_x:X[:20], input_y:Y[:20]})\n",
    "\n",
    "print 'embed_chars: %s' % str(result[0].shape)\n",
    "print 'embed_chars_expanded: %s' % str(result[1].shape)\n",
    "print 'W_conv: %s' % str(result[2].shape)\n",
    "print 'h_conv: %s' % str(result[3].shape)\n",
    "print 'h_pool: %s' % str(result[4].shape)\n",
    "print 'h_pool_flat: %s' % str(result[5].shape)\n",
    "\n"
   ]
  },
  {
   "cell_type": "code",
   "execution_count": 11,
   "metadata": {
    "collapsed": false
   },
   "outputs": [],
   "source": [
    "fc_W = tf.Variable(tf.truncated_normal([10, 3], stddev=0.1), name=\"fc_W\")\n",
    "fc_b = tf.Variable(tf.constant(0.1, shape=[3]), name=\"fc_b\")\n",
    "scores = tf.nn.xw_plus_b(h_pool_flat, fc_W, fc_b)\n",
    "predictions = tf.argmax(scores, 1)\n",
    "correct_predictions = tf.argmax(input_y,1)"
   ]
  },
  {
   "cell_type": "code",
   "execution_count": 14,
   "metadata": {
    "collapsed": false
   },
   "outputs": [
    {
     "name": "stderr",
     "output_type": "stream",
     "text": [
      "Exception AssertionError: AssertionError(\"Nesting violated for default stack of <type 'weakref'> objects\",) in <bound method InteractiveSession.__del__ of <tensorflow.python.client.session.InteractiveSession object at 0x7ff3046ec290>> ignored\n"
     ]
    },
    {
     "name": "stdout",
     "output_type": "stream",
     "text": [
      "100 step 100, training accuracy 0.393\n",
      "200 step 200, training accuracy 0.5435\n",
      "300 step 300, training accuracy 0.643\n",
      "400 step 400, training accuracy 0.66825\n",
      "500 step 500, training accuracy 0.6835\n",
      "600 step 600, training accuracy 0.69475\n",
      "700 step 700, training accuracy 0.72875\n",
      "800 step 800, training accuracy 0.73725\n",
      "900 step 900, training accuracy 0.75625\n",
      "1000 step 1000, training accuracy 0.76725\n",
      "\n",
      "test accuracy 0.69036\n",
      "1100 step 1100, training accuracy 0.78725\n",
      "1200 step 1200, training accuracy 0.7995\n",
      "1300 step 1300, training accuracy 0.808\n",
      "1400 step 1400, training accuracy 0.82275\n",
      "1500 step 1500, training accuracy 0.82625\n",
      "1600 step 1600, training accuracy 0.84875\n",
      "1700 step 1700, training accuracy 0.8395\n",
      "1800 step 1800, training accuracy 0.853\n",
      "1900 step 1900, training accuracy 0.8615\n",
      "2000 step 2000, training accuracy 0.86625\n",
      "\n",
      "test accuracy 0.713242\n",
      "2100 step 2100, training accuracy 0.88275\n",
      "2200 step 2200, training accuracy 0.888\n",
      "2300 step 2300, training accuracy 0.87725\n",
      "2400 step 2400, training accuracy 0.893\n",
      "2500 step 2500, training accuracy 0.9025\n",
      "2600 step 2600, training accuracy 0.9045\n",
      "2700 step 2700, training accuracy 0.91175\n",
      "2800 step 2800, training accuracy 0.91725\n",
      "2900 step 2900, training accuracy 0.91525\n",
      "3000 step 3000, training accuracy 0.923\n",
      "\n",
      "test accuracy 0.720058\n",
      "3100 step 3100, training accuracy 0.92925\n",
      "3200 step 3200, training accuracy 0.92825\n",
      "3300 step 3300, training accuracy 0.9305\n",
      "3400 step 3400, training accuracy 0.94225\n",
      "3500 step 3500, training accuracy 0.9355\n",
      "3600 step 3600, training accuracy 0.9365\n",
      "3700 step 3700, training accuracy 0.93825\n",
      "3800 step 3800, training accuracy 0.9485\n",
      "3900 step 3900, training accuracy 0.94725\n",
      "4000 step 4000, training accuracy 0.94925\n",
      "\n",
      "test accuracy 0.710321\n",
      "4100 step 4100, training accuracy 0.95175\n",
      "4200 step 4200, training accuracy 0.951\n",
      "4300 step 4300, training accuracy 0.95625\n",
      "4400 step 4400, training accuracy 0.957\n",
      "4500 step 4500, training accuracy 0.9575\n",
      "4600 step 4600, training accuracy 0.9575\n",
      "4700 step 4700, training accuracy 0.95625\n",
      "4800 step 4800, training accuracy 0.96625\n",
      "4900 step 4900, training accuracy 0.95875\n",
      "4999 \n",
      "test accuracy 0.698637\n"
     ]
    },
    {
     "data": {
      "text/plain": [
       "[<matplotlib.lines.Line2D at 0x7ff3040527d0>]"
      ]
     },
     "execution_count": 14,
     "metadata": {},
     "output_type": "execute_result"
    },
    {
     "data": {
      "image/png": "[encoded data removed]",
      "text/plain": [
       "<matplotlib.figure.Figure at 0x7ff30500d5d0>"
      ]
     },
     "metadata": {},
     "output_type": "display_data"
    }
   ],
   "source": [
    "#cross_entropy = tf.reduce_mean(-tf.reduce_sum(correct_predictions * tf.log(predictions), reduction_indices=[1]))\n",
    "cross_entropy = tf.nn.softmax_cross_entropy_with_logits(scores,input_y)\n",
    "train_step = tf.train.AdamOptimizer(1e-4).minimize(cross_entropy)\n",
    "count_correct_prediction = tf.equal(predictions, correct_predictions)\n",
    "accuracy = tf.reduce_mean(tf.cast(count_correct_prediction, tf.float32))\n",
    "\n",
    "sess = tf.InteractiveSession()\n",
    "sess.run(tf.initialize_all_variables())\n",
    "accs = []\n",
    "batch_size = 4000\n",
    "for i in range(5000):\n",
    "  print '\\r' + str(i),\n",
    "  #batch_x = X[i*batch_size:i*batch_size+batch_size,:]\n",
    "  #batch_y = Y[i*batch_size:i*batch_size+batch_size,:\n",
    "  \n",
    "  ind = np.random.randint(len(X), size=batch_size)\n",
    "  batch_x = X[ind]\n",
    "  batch_y = Y[ind]\n",
    "\n",
    "  if i%100 == 0 and i > 0:\n",
    "    #print str(i*batch_size) + ':' + str(i*batch_size+batch_size) +' - ' + str(len(batch_x))\n",
    "    train_accuracy = accuracy.eval(feed_dict={input_x:batch_x, input_y: batch_y})\n",
    "    print(\"step %d, training accuracy %g\"%(i, train_accuracy))\n",
    "    accs.append(train_accuracy)\n",
    "    \n",
    "    if i%1000 ==0 and i > 0: print(\"\\ntest accuracy %g\"%accuracy.eval(feed_dict={input_x : X_test, input_y: Y_test}))\n",
    "    \n",
    "  train_step.run(feed_dict={input_x: batch_x, input_y : batch_y})\n",
    "\n",
    "print(\"\\ntest accuracy %g\"%accuracy.eval(feed_dict={\n",
    "   input_x : X_test, input_y: Y_test}))\n",
    "\n",
    "plt.plot(accs)"
   ]
  },
  {
   "cell_type": "code",
   "execution_count": 15,
   "metadata": {
    "collapsed": true
   },
   "outputs": [],
   "source": [
    "saver = tf.train.Saver()"
   ]
  },
  {
   "cell_type": "code",
   "execution_count": null,
   "metadata": {
    "collapsed": true
   },
   "outputs": [],
   "source": []
  }
 ],
 "metadata": {
  "kernelspec": {
   "display_name": "Python 2",
   "language": "python",
   "name": "python2"
  },
  "language_info": {
   "codemirror_mode": {
    "name": "ipython",
    "version": 2
   },
   "file_extension": ".py",
   "mimetype": "text/x-python",
   "name": "python",
   "nbconvert_exporter": "python",
   "pygments_lexer": "ipython2",
   "version": "2.7.12"
  }
 },
 "nbformat": 4,
 "nbformat_minor": 0
}
