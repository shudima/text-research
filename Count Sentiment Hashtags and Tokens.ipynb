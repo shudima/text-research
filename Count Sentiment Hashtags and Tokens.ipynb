{
 "cells": [
  {
   "cell_type": "code",
   "execution_count": 1,
   "metadata": {
    "collapsed": false
   },
   "outputs": [],
   "source": [
    "import pandas as pd\n",
    "from collections import Counter\n",
    "from nltk.tokenize import TweetTokenizer"
   ]
  },
  {
   "cell_type": "code",
   "execution_count": 2,
   "metadata": {
    "collapsed": true
   },
   "outputs": [],
   "source": [
    "df = pd.read_csv('/home/dima/Data/sentiment_manual_data_clean_test.csv')"
   ]
  },
  {
   "cell_type": "code",
   "execution_count": 4,
   "metadata": {
    "collapsed": false
   },
   "outputs": [
    {
     "name": "stdout",
     "output_type": "stream",
     "text": [
      "pos: 1269\n",
      "neg: 2337\n"
     ]
    }
   ],
   "source": [
    "pos = df[df[' Sentiment'] == 'positive'].reset_index(drop=True)\n",
    "neg = df[df[' Sentiment'] == 'negative'].reset_index(drop=True)\n",
    "print 'pos: %d' % len(pos)\n",
    "print 'neg: %d' % len(neg)"
   ]
  },
  {
   "cell_type": "code",
   "execution_count": 3,
   "metadata": {
    "collapsed": false
   },
   "outputs": [],
   "source": [
    "def get_hashtags(data):\n",
    "    hashtags = []\n",
    "    for d in data:\n",
    "        hashtags += [w for w in d.split() if w[0] == '#']\n",
    "    return hashtags\n",
    "\n",
    "def get_tokens(data):\n",
    "    tokens = []\n",
    "    tokenizer = TweetTokenizer(preserve_case=False, strip_handles=True, reduce_len=True)\n",
    "    for d in data: \n",
    "        tokens += tokenizer.tokenize(d)\n",
    "    return tokens"
   ]
  },
  {
   "cell_type": "code",
   "execution_count": 5,
   "metadata": {
    "collapsed": false
   },
   "outputs": [
    {
     "name": "stdout",
     "output_type": "stream",
     "text": [
      "pos most common: \n",
      "[('#sxsw!', 21), ('#sxsw:', 12), ('#hourofcode', 10), ('#marissagoogle', 5), ('#cbatsxsw', 4), ('#edtech', 4), ('#metgala', 4), ('#enchantment', 4), ('#ubersocial', 4), ('#hollergram', 4), ('#fb', 3), ('#app', 3), ('#socialmedia', 3), ('#nyc', 3), ('#technews', 3), ('#flyfi', 3), ('#apps', 2), ('#sxswbuffalo', 2), ('#connected', 2), ('#kudos', 2)]\n",
      "\n",
      "neg most common: \n",
      "[('#usairways', 11), ('#unitedairlines', 11), ('#badcustomerservice', 9), ('#frustrated', 5), ('#neveragain', 5), ('#disappointed', 5), ('#nothappy', 4), ('#usairwaysfail', 4), ('#epicfail', 3), ('#help', 3), ('#thenewamerican', 3), ('#unacceptable', 3), ('#shameful', 3), ('#wtf', 3), ('#qagb', 3), ('#badservice', 3), ('#worstcustomerservice', 3), ('#ios8', 2), ('#bing', 2), ('#delays', 2)]\n"
     ]
    }
   ],
   "source": [
    "pos_hashtags = get_hashtags(pos['Text_clean'].str.lower())\n",
    "neg_hashtags = get_hashtags(neg['Text_clean'].str.lower())\n",
    "\n",
    "pos_hashtags_cnt = Counter([h for h in pos_hashtags if h not in neg_hashtags])\n",
    "neg_hashtags_cnt = Counter([h for h in neg_hashtags if h not in pos_hashtags])\n",
    "\n",
    "\n",
    "print 'pos most common: \\n%s' % str(pos_hashtags_cnt.most_common(20))\n",
    "print '\\nneg most common: \\n%s' % str(neg_hashtags_cnt.most_common(20))"
   ]
  },
  {
   "cell_type": "code",
   "execution_count": 6,
   "metadata": {
    "collapsed": false
   },
   "outputs": [
    {
     "name": "stdout",
     "output_type": "stream",
     "text": [
      "pos most common: \n",
      "[(u'\\U0001f64f', 17), (u'wins', 17), (u'downtown', 16), (u'begins', 13), (u\"google's\", 12), (u'marketing', 11), (u'rock', 11), (u'excellent', 10), (u'#hourofcode', 10), (u'workshops', 10), (u'\\U0001f60d', 9), (u'\\u2764', 9), (u'street', 8), (u'congrats', 8), (u'hot', 7), (u'japan', 7), (u'physical', 7), (u'welcome', 7), (u'rumor', 6), (u'conferences', 6)]\n",
      "\n",
      "neg most common: \n",
      "[(u'worst', 67), (u'bags', 39), (u'ticket', 38), (u'stuck', 37), (u'fix', 36), (u'flightr', 29), (u\"what's\", 27), (u'fuck', 26), (u'disappointed', 23), (u'hung', 21), (u'terrible', 20), (u'broken', 20), (u'batteries', 20), (u'studio', 19), (u'poor', 19), (u'rude', 19), (u'unacceptable', 18), (u'worse', 18), (u'less', 18), (u'stranded', 18)]\n"
     ]
    }
   ],
   "source": [
    "pos_tokens = get_tokens(pos['Text_clean'].str.lower())\n",
    "neg_tokens = get_tokens(neg['Text_clean'].str.lower())\n",
    "\n",
    "pos_tokens_cnt = Counter([h for h in pos_tokens if h not in neg_tokens])\n",
    "neg_tokens_cnt = Counter([h for h in neg_tokens if h not in pos_tokens])\n",
    "\n",
    "\n",
    "print 'pos most common: \\n%s' % str(pos_tokens_cnt.most_common(20))\n",
    "print '\\nneg most common: \\n%s' % str(neg_tokens_cnt.most_common(20))"
   ]
  },
  {
   "cell_type": "code",
   "execution_count": 9,
   "metadata": {},
   "outputs": [
    {
     "data": {
      "text/plain": [
       "10507"
      ]
     },
     "execution_count": 9,
     "metadata": {},
     "output_type": "execute_result"
    }
   ],
   "source": [
    "all_tokens = get_tokens(df['Text_clean'])\n",
    "len(set(all_tokens))"
   ]
  },
  {
   "cell_type": "code",
   "execution_count": null,
   "metadata": {},
   "outputs": [],
   "source": [
    "adf = "
   ]
  }
 ],
 "metadata": {
  "kernelspec": {
   "display_name": "Python 2",
   "language": "python",
   "name": "python2"
  },
  "language_info": {
   "codemirror_mode": {
    "name": "ipython",
    "version": 2
   },
   "file_extension": ".py",
   "mimetype": "text/x-python",
   "name": "python",
   "nbconvert_exporter": "python",
   "pygments_lexer": "ipython2",
   "version": "2.7.12"
  }
 },
 "nbformat": 4,
 "nbformat_minor": 0
}
