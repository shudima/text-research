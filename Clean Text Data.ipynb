{
 "cells": [
  {
   "cell_type": "markdown",
   "metadata": {},
   "source": [
    "# Imports"
   ]
  },
  {
   "cell_type": "code",
   "execution_count": null,
   "metadata": {},
   "outputs": [],
   "source": [
    "import pandas as pd\n",
    "from collections import Counter\n",
    "from nltk.tokenize import TweetTokenizer\n",
    "import re\n",
    "tokenizer = TweetTokenizer(preserve_case=False, strip_handles=True, reduce_len=True)"
   ]
  },
  {
   "cell_type": "markdown",
   "metadata": {},
   "source": [
    "# Methods"
   ]
  },
  {
   "cell_type": "code",
   "execution_count": null,
   "metadata": {},
   "outputs": [],
   "source": [
    "def clean_text(text): \n",
    "    new_text = str(text)\n",
    "    new_text = new_text.lower()\n",
    "    new_text = re.sub(r'https://\\S+', 'URL_URL_URL', new_text)\n",
    "    new_text = re.sub(r'http://\\S+', 'URL_URL_URL', new_text)\n",
    "    new_text = re.sub(r'@\\S+', 'USER_MENTION_USER', new_text)\n",
    "    return new_text\n",
    "\n",
    "def map_sentiment_string(s):\n",
    "    if s == 'positive': return 1\n",
    "    if s == 'negative': return -1\n",
    "    return 0\n",
    "\n",
    "def map_sentiment_float(f):\n",
    "    if f > 0.3: return 1\n",
    "    if f < -0.3: return -1\n",
    "    return 0\n",
    "\n",
    "def map_sentiment_int(i):\n",
    "    i = int(i)\n",
    "    if i == 4: return 1\n",
    "    if i == 0: return -1\n",
    "    return 0"
   ]
  },
  {
   "cell_type": "markdown",
   "metadata": {},
   "source": [
    "# Data Prep"
   ]
  },
  {
   "cell_type": "code",
   "execution_count": 5,
   "metadata": {},
   "outputs": [
    {
     "data": {
      "text/html": [
       "<div>\n",
       "<table border=\"1\" class=\"dataframe\">\n",
       "  <thead>\n",
       "    <tr style=\"text-align: right;\">\n",
       "      <th></th>\n",
       "      <th>Unnamed: 0</th>\n",
       "      <th>Text</th>\n",
       "      <th>Sentiment</th>\n",
       "      <th>Text_clean</th>\n",
       "      <th>Sentiment</th>\n",
       "    </tr>\n",
       "  </thead>\n",
       "  <tbody>\n",
       "    <tr>\n",
       "      <th>0</th>\n",
       "      <td>0</td>\n",
       "      <td>@SouthwestAir thanks for an awesome flight and...</td>\n",
       "      <td>positive</td>\n",
       "      <td>USER_MENTION_USER thanks for an awesome flight...</td>\n",
       "      <td>1</td>\n",
       "    </tr>\n",
       "    <tr>\n",
       "      <th>1</th>\n",
       "      <td>1</td>\n",
       "      <td>@USAirways unacceptable. You knew the pilot wo...</td>\n",
       "      <td>negative</td>\n",
       "      <td>USER_MENTION_USER unacceptable. you knew the p...</td>\n",
       "      <td>-1</td>\n",
       "    </tr>\n",
       "    <tr>\n",
       "      <th>2</th>\n",
       "      <td>2</td>\n",
       "      <td>@AmericanAir how can I get you guys to respond...</td>\n",
       "      <td>negative</td>\n",
       "      <td>USER_MENTION_USER how can i get you guys to re...</td>\n",
       "      <td>-1</td>\n",
       "    </tr>\n",
       "    <tr>\n",
       "      <th>3</th>\n",
       "      <td>3</td>\n",
       "      <td>@VirginAmerica lost my luggage 4 days ago on f...</td>\n",
       "      <td>negative</td>\n",
       "      <td>USER_MENTION_USER lost my luggage 4 days ago o...</td>\n",
       "      <td>-1</td>\n",
       "    </tr>\n",
       "    <tr>\n",
       "      <th>4</th>\n",
       "      <td>4</td>\n",
       "      <td>@united is it on a flight now? Thanks for reply.</td>\n",
       "      <td>neutral</td>\n",
       "      <td>USER_MENTION_USER is it on a flight now? thank...</td>\n",
       "      <td>0</td>\n",
       "    </tr>\n",
       "  </tbody>\n",
       "</table>\n",
       "</div>"
      ],
      "text/plain": [
       "   Unnamed: 0                                               Text  Sentiment  \\\n",
       "0           0  @SouthwestAir thanks for an awesome flight and...   positive   \n",
       "1           1  @USAirways unacceptable. You knew the pilot wo...   negative   \n",
       "2           2  @AmericanAir how can I get you guys to respond...   negative   \n",
       "3           3  @VirginAmerica lost my luggage 4 days ago on f...   negative   \n",
       "4           4   @united is it on a flight now? Thanks for reply.    neutral   \n",
       "\n",
       "                                          Text_clean  Sentiment  \n",
       "0  USER_MENTION_USER thanks for an awesome flight...          1  \n",
       "1  USER_MENTION_USER unacceptable. you knew the p...         -1  \n",
       "2  USER_MENTION_USER how can i get you guys to re...         -1  \n",
       "3  USER_MENTION_USER lost my luggage 4 days ago o...         -1  \n",
       "4  USER_MENTION_USER is it on a flight now? thank...          0  "
      ]
     },
     "execution_count": 5,
     "metadata": {},
     "output_type": "execute_result"
    }
   ],
   "source": [
    "df = pd.read_csv('/home/dima/Data/sentiment_manual_train_data.csv')\n",
    "df['Text_clean'] = df['Text'].apply(clean_text)\n",
    "df['Sentiment'] = df[' Sentiment'].apply(map_sentiment_string)\n",
    "df.head()\n"
   ]
  },
  {
   "cell_type": "code",
   "execution_count": 6,
   "metadata": {},
   "outputs": [],
   "source": [
    "df.to_csv('/home/dima/Data/sentiment_manual_train_data_clean.csv')"
   ]
  }
 ],
 "metadata": {
  "kernelspec": {
   "display_name": "Python 2",
   "language": "python",
   "name": "python2"
  },
  "language_info": {
   "codemirror_mode": {
    "name": "ipython",
    "version": 2
   },
   "file_extension": ".py",
   "mimetype": "text/x-python",
   "name": "python",
   "nbconvert_exporter": "python",
   "pygments_lexer": "ipython2",
   "version": "2.7.12"
  }
 },
 "nbformat": 4,
 "nbformat_minor": 0
}
