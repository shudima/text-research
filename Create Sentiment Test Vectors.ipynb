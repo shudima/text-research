{
 "cells": [
  {
   "cell_type": "code",
   "execution_count": 9,
   "metadata": {},
   "outputs": [],
   "source": [
    "import pandas as pd\n",
    "import numpy as np\n",
    "import tensorflow as tf\n",
    "from collections import Counter\n",
    "from nltk.tokenize import TweetTokenizer\n",
    "import re\n",
    "tokenizer = TweetTokenizer(preserve_case=False, strip_handles=True, reduce_len=True)"
   ]
  },
  {
   "cell_type": "code",
   "execution_count": 2,
   "metadata": {},
   "outputs": [],
   "source": [
    "def pad_text(text):\n",
    "    text = str(text)\n",
    "    tokens = tokenizer.tokenize(text)\n",
    "    for i in range(len(tokens), seq_len,1):\n",
    "        tokens.append('<PAD>')\n",
    "    return ' '.join(tokens)"
   ]
  },
  {
   "cell_type": "code",
   "execution_count": 6,
   "metadata": {},
   "outputs": [],
   "source": [
    "df = pd.read_csv('/home/dima/Data/sentiment_manual_data_clean_test.csv')\n"
   ]
  },
  {
   "cell_type": "code",
   "execution_count": 13,
   "metadata": {},
   "outputs": [],
   "source": [
    "seq_len = 42\n",
    "tokens_set = list(np.load('/home/dima/Data/sentiment_vocab.npy'))"
   ]
  },
  {
   "cell_type": "code",
   "execution_count": 10,
   "metadata": {},
   "outputs": [],
   "source": [
    "df['Text_padded'] = df['Text_clean'].apply(pad_text)"
   ]
  },
  {
   "cell_type": "code",
   "execution_count": 17,
   "metadata": {},
   "outputs": [
    {
     "name": "stdout",
     "output_type": "stream",
     "text": [
      "data_x: (5823, 42)\n",
      "data_y: (5823, 3)\n"
     ]
    }
   ],
   "source": [
    "data_x = []\n",
    "data_y = []\n",
    "pad_index = tokens_set.index('<pad>')\n",
    "for i in range(len(df)):\n",
    "   \n",
    "    try:\n",
    "        text = df['Text_padded'][i]\n",
    "        sentiment = int(df['Sentiment'][i])\n",
    "        \n",
    "        text_tokens = tokenizer.tokenize(text)\n",
    "        d = [tokens_set.index(t) for t in text_tokens if t in tokens_set]\n",
    "        \n",
    "        for i in range(len(d), seq_len, 1):\n",
    "            d.append(pad_index)\n",
    "            \n",
    "        data_x.append(d)\n",
    "        d_y = np.zeros(3)\n",
    "        \n",
    "        d_y[sentiment+1] = 1\n",
    "        \n",
    "        data_y.append(d_y)\n",
    "    except:\n",
    "        pass\n",
    "    \n",
    "data_x = np.array(data_x)\n",
    "data_y = np.array(data_y)\n",
    "print 'data_x: %s' % str(data_x.shape)\n",
    "print 'data_y: %s' % str(data_y.shape)"
   ]
  },
  {
   "cell_type": "code",
   "execution_count": 18,
   "metadata": {},
   "outputs": [],
   "source": [
    "np.save('/home/dima/Data/sentiment_test_data_x', data_x)\n",
    "np.save('/home/dima/Data/sentiment_test_data_y', data_y)"
   ]
  },
  {
   "cell_type": "code",
   "execution_count": 16,
   "metadata": {},
   "outputs": [
    {
     "data": {
      "text/plain": [
       "17900"
      ]
     },
     "execution_count": 16,
     "metadata": {},
     "output_type": "execute_result"
    }
   ],
   "source": []
  }
 ],
 "metadata": {
  "kernelspec": {
   "display_name": "Python 2",
   "language": "python",
   "name": "python2"
  },
  "language_info": {
   "codemirror_mode": {
    "name": "ipython",
    "version": 2
   },
   "file_extension": ".py",
   "mimetype": "text/x-python",
   "name": "python",
   "nbconvert_exporter": "python",
   "pygments_lexer": "ipython2",
   "version": "2.7.12"
  }
 },
 "nbformat": 4,
 "nbformat_minor": 0
}
