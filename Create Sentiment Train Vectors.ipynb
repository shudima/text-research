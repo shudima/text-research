{
 "cells": [
  {
   "cell_type": "code",
   "execution_count": 14,
   "metadata": {
    "collapsed": true
   },
   "outputs": [],
   "source": [
    "import pandas as pd\n",
    "import numpy as np\n",
    "import tensorflow as tf\n",
    "from collections import Counter\n",
    "from nltk.tokenize import TweetTokenizer\n",
    "import re\n",
    "tokenizer = TweetTokenizer(preserve_case=False, strip_handles=True, reduce_len=True)"
   ]
  },
  {
   "cell_type": "code",
   "execution_count": 15,
   "metadata": {
    "collapsed": true
   },
   "outputs": [],
   "source": [
    "def pad_text(text):\n",
    "    text = str(text)\n",
    "    tokens = tokenizer.tokenize(text)\n",
    "    for i in range(len(tokens), seq_len,1):\n",
    "        tokens.append('<PAD>')\n",
    "    return ' '.join(tokens)"
   ]
  },
  {
   "cell_type": "code",
   "execution_count": 17,
   "metadata": {
    "collapsed": false
   },
   "outputs": [
    {
     "name": "stdout",
     "output_type": "stream",
     "text": [
      "23292\n"
     ]
    }
   ],
   "source": [
    "df = pd.read_csv('/home/dima/Data/sentiment_manual_data_clean_train.csv')\n",
    "print len(df)"
   ]
  },
  {
   "cell_type": "code",
   "execution_count": 18,
   "metadata": {
    "collapsed": false
   },
   "outputs": [
    {
     "name": "stdout",
     "output_type": "stream",
     "text": [
      "seq_len 42\n"
     ]
    }
   ],
   "source": [
    "seq_len = 0\n",
    "for text in df['Text_clean']:\n",
    "    try:\n",
    "        text = str(text)\n",
    "        text_tokens = tokenizer.tokenize(text)\n",
    "        if len(text_tokens) > seq_len: seq_len = len(text_tokens)\n",
    "    except:\n",
    "        pass\n",
    "print 'seq_len %d' % seq_len "
   ]
  },
  {
   "cell_type": "code",
   "execution_count": 19,
   "metadata": {
    "collapsed": true
   },
   "outputs": [],
   "source": [
    "seq_len = 42"
   ]
  },
  {
   "cell_type": "code",
   "execution_count": 20,
   "metadata": {
    "collapsed": true
   },
   "outputs": [],
   "source": [
    "df['Text_padded'] = df['Text_clean'].apply(pad_text)"
   ]
  },
  {
   "cell_type": "code",
   "execution_count": 21,
   "metadata": {
    "collapsed": false
   },
   "outputs": [
    {
     "name": "stdout",
     "output_type": "stream",
     "text": [
      "tokens_set 21656\n"
     ]
    }
   ],
   "source": [
    "all_tokens = []\n",
    "for text in df['Text_padded']:\n",
    "    try:\n",
    "        text = str(text)\n",
    "        text_tokens = tokenizer.tokenize(text)\n",
    "        all_tokens += text_tokens\n",
    "    except:\n",
    "        pass\n",
    "    \n",
    "tokens_set = list(set(all_tokens))\n",
    "print 'tokens_set %d' % len(tokens_set)"
   ]
  },
  {
   "cell_type": "code",
   "execution_count": 22,
   "metadata": {
    "collapsed": false
   },
   "outputs": [
    {
     "name": "stdout",
     "output_type": "stream",
     "text": [
      "data_x: (22054, 42)\n",
      "data_y: (22054, 3)\n"
     ]
    }
   ],
   "source": [
    "data_x = []\n",
    "data_y = []\n",
    "for i in range(len(df)):\n",
    "   \n",
    "    try:\n",
    "        text = df['Text_padded'][i]\n",
    "        sentiment = int(df['Sentiment'][i])\n",
    "        \n",
    "        text_tokens = tokenizer.tokenize(text)\n",
    "        d = [tokens_set.index(t) for t in text_tokens]\n",
    "        data_x.append(d)\n",
    "        d_y = np.zeros(3)\n",
    "        \n",
    "        d_y[sentiment+1] = 1\n",
    "        \n",
    "        data_y.append(d_y)\n",
    "    except:\n",
    "        pass\n",
    "    \n",
    "data_x = np.array(data_x)\n",
    "data_y = np.array(data_y)\n",
    "print 'data_x: %s' % str(data_x.shape)\n",
    "print 'data_y: %s' % str(data_y.shape)"
   ]
  },
  {
   "cell_type": "code",
   "execution_count": 23,
   "metadata": {
    "collapsed": true
   },
   "outputs": [],
   "source": [
    "np.save('/home/dima/Data/sentiment_data_x', data_x)\n",
    "np.save('/home/dima/Data/sentiment_data_y', data_y)"
   ]
  },
  {
   "cell_type": "code",
   "execution_count": 24,
   "metadata": {
    "collapsed": true
   },
   "outputs": [],
   "source": [
    "np.save('/home/dima/Data/sentiment_vocab', np.array(tokens_set))"
   ]
  },
  {
   "cell_type": "code",
   "execution_count": null,
   "metadata": {
    "collapsed": true
   },
   "outputs": [],
   "source": []
  }
 ],
 "metadata": {
  "kernelspec": {
   "display_name": "Python 2",
   "language": "python",
   "name": "python2"
  },
  "language_info": {
   "codemirror_mode": {
    "name": "ipython",
    "version": 2
   },
   "file_extension": ".py",
   "mimetype": "text/x-python",
   "name": "python",
   "nbconvert_exporter": "python",
   "pygments_lexer": "ipython2",
   "version": "2.7.12"
  }
 },
 "nbformat": 4,
 "nbformat_minor": 0
}
