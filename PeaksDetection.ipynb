{
 "cells": [
  {
   "cell_type": "code",
   "execution_count": 1,
   "metadata": {
    "collapsed": false
   },
   "outputs": [],
   "source": [
    "from __future__ import division\n",
    "%matplotlib inline\n",
    "import numpy as np\n",
    "from scipy.signal import find_peaks_cwt\n",
    "import matplotlib.pyplot as plt\n",
    "import peakutils\n",
    "import pandas as pd\n",
    "from itertools import groupby\n",
    "import requests\n",
    "import datetime"
   ]
  },
  {
   "cell_type": "code",
   "execution_count": 2,
   "metadata": {
    "collapsed": false
   },
   "outputs": [],
   "source": [
    "%matplotlib inline\n",
    "\n",
    "from __future__ import division\n",
    "import matplotlib as mpl\n",
    "import matplotlib.cm as cm\n",
    "import matplotlib\n",
    "import matplotlib.pyplot as plt\n",
    "import re\n",
    "import pandas as pd\n",
    "from nltk.corpus import stopwords\n",
    "from nltk.tokenize import TweetTokenizer\n",
    "import numpy as np\n",
    "from sklearn.cluster import KMeans\n",
    "from sklearn.decomposition import PCA\n",
    "from sklearn.metrics.pairwise import pairwise_distances\n",
    "from nltk.util import ngrams as nltk_ngrams\n",
    "from collections import Counter\n",
    "import networkx as nx\n",
    "\n",
    "custom_stopwords = ['rt', '&amp', '#', '', '&amp;', '-', 'amp', '.', 'QQQQQQQQQ', 'll','re','ve']\n",
    "stopwords_english = stopwords.words('english')\n",
    "stopwords_spanish = stopwords.words('spanish')\n",
    "tknzr = TweetTokenizer(preserve_case=False, strip_handles=True, reduce_len=True)\n",
    "def is_word_blacklisted(word):\n",
    "    return word.startswith('http') or \\\n",
    "           word.startswith('//') or \\\n",
    "           word.startswith('@') or \\\n",
    "           word.startswith('#') or \\\n",
    "           word in custom_stopwords or \\\n",
    "           word in stopwords_english \n",
    "\n",
    "\n",
    "def clean_text(text, remove_non_chars=True): \n",
    "    words = text.split()\n",
    "    for i in range(len(words)):\n",
    "        word_with_no_ht = words[i].replace('#','')\n",
    "        if words[i][0] == '#' and words_cnt[word_with_no_ht] >  len(data_raw)*0.001:\n",
    "            words[i] = word_with_no_ht\n",
    "                \n",
    "    new_text = ' '.join(words)\n",
    "    \n",
    "    new_text = re.sub(r'@\\S+', '', new_text)\n",
    "    new_text = re.sub(r'#\\S+', '', new_text)\n",
    "    new_text = re.sub(r',', '.', new_text)\n",
    "    new_text = re.sub(r\"'\", ' ', new_text)\n",
    "    new_text = re.sub(r'https://\\S+', '', new_text)\n",
    "    new_text = re.sub(r'http://\\S+', '', new_text)\n",
    "    words = tknzr.tokenize(new_text)\n",
    "\n",
    "    if remove_non_chars:\n",
    "        words = [re.sub(r'\\W+', ' ', w) for w in words]\n",
    "\n",
    "    return ' '.join([w for w in words if not is_word_blacklisted(w)])\n",
    "\n",
    "def find_all_paths(G):\n",
    "    result = []\n",
    "    try:\n",
    "        result = []\n",
    "        start_nodes = [k for k,v in G.in_degree().iteritems() if v == 0]\n",
    "\n",
    "        for start in start_nodes:\n",
    "            paths = nx.shortest_path(G, start)\n",
    "            longest = max(paths, key= lambda x: len(set(paths[x])))\n",
    "            result.append(paths[longest])\n",
    "    except Exception as e:\n",
    "        logging.info(\"Error, \" + e.message)\n",
    "\n",
    "    return result\n",
    "\n",
    "def get_path_tuple(p, l):\n",
    "    d= dict(l)\n",
    "    prev = p[0]\n",
    "    sum = 0\n",
    "    count = 0\n",
    "    min_cnt = 9999999\n",
    "    min_term = ''\n",
    "    phrase = p[0].split()[0]\n",
    "    for i in range(1, len(p)):\n",
    "        terms  = (prev + ' ' + p[i]).split()\n",
    "        term = terms[0] + ' ' + terms[1] + ' ' + terms[3]\n",
    "\n",
    "        if term in d:\n",
    "            cnt = d[term]\n",
    "\n",
    "            if cnt < min_cnt:\n",
    "                min_cnt = cnt\n",
    "                min_term = term\n",
    "\n",
    "            count+=1\n",
    "            sum += cnt\n",
    "\n",
    "        prev = p[i]\n",
    "        phrase += ' ' + p[i].split()[0]\n",
    "\n",
    "    phrase += ' ' +  p[-1].split()[1]\n",
    "    return phrase, min_cnt, min_term\n",
    "\n",
    "def build_phrases_from_aggs(ngram_hash,aggs):\n",
    "    l = sorted(aggs, key=lambda x: x[1], reverse=True)\n",
    "\n",
    "    G = nx.DiGraph()\n",
    "    for i in range(len(l)):\n",
    "\n",
    "        bgram = l[i][0]\n",
    "        count = l[i][1]\n",
    "        terms = bgram.split()\n",
    "\n",
    "        term1 = terms[0] + ' ' + terms[1]\n",
    "        term2 = terms[1] + ' ' + terms[2]\n",
    "\n",
    "        G.add_edge(term1, term2, weight=count)\n",
    "\n",
    "    paths = find_all_paths(G)\n",
    "    phrases = [get_path_tuple(p,l) for p in paths]\n",
    "\n",
    "    keys = list(set([x[2] for x in phrases]))\n",
    "    d = [( k , [(x[0],x[1]) for x in phrases if x[2] == k]) for k in keys]\n",
    "\n",
    "    result = [{'phrase' : v[0][0], 'count' : v[0][1], 'alias' : k, 'tweets' : ngram_hash[k]} for k,v in dict(d).iteritems()]\n",
    "\n",
    "\n",
    "    return sorted(result, key=lambda x : x['count'], reverse=True)\n",
    "\n",
    "\n",
    "def get_grams(text):\n",
    "    return [ ' '.join(g) for g in nltk_ngrams(text.split(),3)]\n",
    "\n",
    "def get_cluster_phrases(cluster_tweets):\n",
    "    ngrams_hash = {}\n",
    "    cnt = Counter()\n",
    "    for i in range(len(cluster_tweets)):\n",
    "        t = cluster_tweets[i]\n",
    "        grams = get_grams(t)\n",
    "        \n",
    "        for gram in grams:\n",
    "            if gram not in ngrams_hash:\n",
    "                ngrams_hash[gram] = []\n",
    "                \n",
    "            ngrams_hash[gram].append(i)\n",
    "        \n",
    "        cnt.update(get_grams(t))\n",
    "    return build_phrases_from_aggs(ngrams_hash, cnt.most_common(int(np.sqrt(len(cluster_tweets)))))[:50]\n",
    "    #return build_phrases_from_aggs(cnt.most_common(int(50)))[:30]\n",
    "\n",
    "    \n",
    "def distance(p1,p2):\n",
    "    if p1 in p2 or p2 in p1:\n",
    "        return 0\n",
    "        \n",
    "    p1 = set(p1.split())\n",
    "    p2 = set(p2.split())\n",
    "    \n",
    "    \n",
    "    union = p1.union(p2)\n",
    "    inter = p1.intersection(p2)\n",
    "    \n",
    "   \n",
    "    return 1 - (len(inter)/len(union))\n",
    "    \n",
    "    \n",
    "    \n",
    "def merge_close_phrases(phrases):\n",
    "    \n",
    "    new_phrases = []\n",
    "    \n",
    "    for p1 in phrases:\n",
    "        new_p = p1['phrase']\n",
    "        new_p_count = p1['count']\n",
    "        new_p_tweets = p1['tweets']\n",
    "        for p2 in phrases:\n",
    "            if p1 != p2 and distance(p1['phrase'],p2['phrase']) < 0.6:\n",
    "                new_p_count += p2['count']\n",
    "                \n",
    "        new_phrases.append({'phrase' : new_p, 'count' : new_p_count, 'tweets' : new_p_tweets  })\n",
    "        \n",
    "    return new_phrases\n",
    "                \n",
    "                \n",
    "\n",
    "def find_peaks(cb):\n",
    "    indexes = peakutils.indexes(cb,thres=0.5,min_dist=50)\n",
    "\n",
    "    peaks = []\n",
    "    for peak_i in indexes:\n",
    "\n",
    "        not_found = True\n",
    "        prev_i = peak_i\n",
    "        while not_found:\n",
    "            curr_i = prev_i - 1\n",
    "\n",
    "            if curr_i > 0 and cb[curr_i] > cb[prev_i] and cb[curr_i] < 0.5*cb[peak_i]: \n",
    "                \n",
    "                peaks.append((prev_i,peak_i))\n",
    "                not_found = False\n",
    "            elif curr_i <=0:\n",
    "                peaks.append((prev_i,peak_i))\n",
    "                not_found = False\n",
    "\n",
    "            prev_i = curr_i\n",
    "\n",
    "    return peaks\n",
    "\n",
    "def parse_date(date):\n",
    "    year = int(date[:4])\n",
    "    month = int(date[4:6])\n",
    "    day = int(date[6:8])\n",
    "    hour = int(date[8:10])\n",
    "    \n",
    "    \n",
    "    return datetime.datetime(year,month,day,hour)\n",
    "\n",
    "def date_to_str(d):\n",
    "    year = d.year\n",
    "    month = d.month\n",
    "    day = d.day\n",
    "    hour = d.hour\n",
    "    \n",
    "    return '%d%s%s%s00' % (year, format(month,'02'), format(day,'02'), format(hour,'02'))\n",
    "    \n",
    "\n",
    "def get_hour_pages(fromDate, toDate):\n",
    "    \n",
    "    pages = []\n",
    "    \n",
    "    fromDate = parse_date(fromDate)\n",
    "    toDate = parse_date(toDate)\n",
    "    \n",
    "    \n",
    "    total_hours = int((toDate - fromDate).seconds/60/60)\n",
    "    print total_hours\n",
    "    delta = int(total_hours/20)\n",
    "    if delta == 0: delta = 1\n",
    "    \n",
    "    currFrom = fromDate\n",
    "    currTo = fromDate + datetime.timedelta(hours=1)\n",
    "    \n",
    "    \n",
    "    while currFrom < toDate:\n",
    "        fromStr = date_to_str(currFrom)\n",
    "        toStr = date_to_str(currTo)\n",
    "        \n",
    "        pages.append((fromStr, toStr))\n",
    "        \n",
    "        currFrom += datetime.timedelta(hours=delta)\n",
    "        currTo = currFrom + datetime.timedelta(hours=1)\n",
    "        \n",
    "    return pages\n",
    "        \n",
    "def get_tweets(query, fromDate, toDate):\n",
    "\n",
    "    payload = {\n",
    "                'query'     : query,\n",
    "                'maxResults': 500,\n",
    "                'fromDate'  : fromDate,\n",
    "                'toDate'  : toDate,\n",
    "            }    \n",
    "    url = ''\n",
    "    user = ''\n",
    "    password = ''\n",
    "    r = requests.get(url, params=payload, auth=(user, password))\n",
    "    res = r.json()\n",
    "    \n",
    "    pages = get_hour_pages(fromDate, toDate)\n",
    "    results = res['results']\n",
    "    \n",
    "    num_of_pages = 0\n",
    "    for page in pages:\n",
    "        print page\n",
    "        payload = {\n",
    "            'query'     : query,\n",
    "            'maxResults': 500,\n",
    "            'fromDate'  : page[0],\n",
    "            'toDate'  : page[1],\n",
    "        }   \n",
    "        \n",
    "        \n",
    "        r = requests.get(url, params=payload, auth=(user, password))\n",
    "        res = r.json()\n",
    "        results += res['results']\n",
    "        \n",
    "        pages_for_hour = 2\n",
    "        while 'next' in res and pages_for_hour > 0:\n",
    "            print pages_for_hour\n",
    "            payload['next'] = res['next']\n",
    "            \n",
    "            r = requests.get(url, params=payload, auth=(user, password))\n",
    "            res = r.json()\n",
    "            results += res['results']\n",
    "            pages_for_hour -= 1\n",
    "               \n",
    "        num_of_pages += 1\n",
    "        \n",
    "        if num_of_pages > 20: break\n",
    "        \n",
    "        \n",
    "    \n",
    "    return results\n",
    "\n",
    "def get_counts(query, fromDate, toDate):\n",
    "    \n",
    "    payload = {\n",
    "                'query'     : query,\n",
    "                'bucket'    : 'hour',\n",
    "                'fromDate'  : fromDate,\n",
    "                'toDate'  : toDate,\n",
    "            }\n",
    "    url = ''\n",
    "    user = ''\n",
    "    password = ''\n",
    "    r = requests.get(url, params=payload, auth=(user, password))\n",
    "    \n",
    "    t = r.text\n",
    "    j = r.json()\n",
    "    if 'results' not in j:\n",
    "        print t\n",
    "\n",
    "    results = sorted(j['results'], key=lambda x: x['timePeriod'])\n",
    "    time_data = np.array([r['count'] for r in results])\n",
    "    \n",
    "    return time_data, results"
   ]
  },
  {
   "cell_type": "code",
   "execution_count": 107,
   "metadata": {
    "collapsed": false
   },
   "outputs": [],
   "source": [
    "time_data, results  = get_counts('(turkey OR istanbul) vpn lang:en', '201606260000','201606291000')"
   ]
  },
  {
   "cell_type": "code",
   "execution_count": 108,
   "metadata": {
    "collapsed": false
   },
   "outputs": [
    {
     "data": {
      "text/plain": [
       "[<matplotlib.lines.Line2D at 0x7f6c0503c190>]"
      ]
     },
     "execution_count": 108,
     "metadata": {},
     "output_type": "execute_result"
    },
    {
     "data": {
      "image/png": "[encoded data removed]",
      "text/plain": [
       "<matplotlib.figure.Figure at 0x7f6bff9013d0>"
      ]
     },
     "metadata": {},
     "output_type": "display_data"
    }
   ],
   "source": [
    "plt.plot(time_data)"
   ]
  },
  {
   "cell_type": "code",
   "execution_count": 109,
   "metadata": {
    "collapsed": false
   },
   "outputs": [
    {
     "data": {
      "text/plain": [
       "<matplotlib.collections.PathCollection at 0x7f6bf35211d0>"
      ]
     },
     "execution_count": 109,
     "metadata": {},
     "output_type": "execute_result"
    },
    {
     "data": {
      "image/png": "[encoded data removed]",
      "text/plain": [
       "<matplotlib.figure.Figure at 0x7f6c042d7f90>"
      ]
     },
     "metadata": {},
     "output_type": "display_data"
    }
   ],
   "source": [
    "peaks = find_peaks(time_data)\n",
    "peak_starts = [p[0] for p in peaks]\n",
    "peak_ends = [p[1] for p in peaks]\n",
    "plt.plot(time_data)\n",
    "plt.scatter(peak_starts, [time_data[i] for i in peak_starts ],color='g')\n",
    "plt.scatter(peak_ends, [time_data[i] for i in peak_ends ],color='r')"
   ]
  },
  {
   "cell_type": "code",
   "execution_count": 110,
   "metadata": {
    "collapsed": false
   },
   "outputs": [
    {
     "name": "stdout",
     "output_type": "stream",
     "text": [
      "Peak 1: from: 201606281500, to: 201606282300, number_of_tweets:95\n"
     ]
    }
   ],
   "source": [
    "for i in range(len(peaks)):\n",
    "    peak_number = i+1\n",
    "    fromDate = results[peaks[i][0]]['timePeriod']\n",
    "    toDate = results[peaks[i][1]]['timePeriod']\n",
    "    number_of_tweets = sum(time_data[peaks[i][0]-1:peaks[i][1]+1])\n",
    "    \n",
    "    \n",
    "    print 'Peak %d: from: %s, to: %s, number_of_tweets:%d' % (peak_number,fromDate,toDate,number_of_tweets)"
   ]
  },
  {
   "cell_type": "code",
   "execution_count": 89,
   "metadata": {
    "collapsed": false,
    "scrolled": true
   },
   "outputs": [
    {
     "name": "stdout",
     "output_type": "stream",
     "text": [
      "6\n"
     ]
    },
    {
     "data": {
      "text/plain": [
       "[('201606121300', '201606121400'),\n",
       " ('201606121400', '201606121500'),\n",
       " ('201606121500', '201606121600'),\n",
       " ('201606121600', '201606121700'),\n",
       " ('201606121700', '201606121800'),\n",
       " ('201606121800', '201606121900')]"
      ]
     },
     "execution_count": 89,
     "metadata": {},
     "output_type": "execute_result"
    }
   ],
   "source": [
    "get_hour_pages('201606121300','201606121900')"
   ]
  },
  {
   "cell_type": "code",
   "execution_count": 5,
   "metadata": {
    "collapsed": false,
    "scrolled": false
   },
   "outputs": [
    {
     "name": "stdout",
     "output_type": "stream",
     "text": [
      "10\n",
      "('201606260000', '201606260100')\n",
      "('201606260100', '201606260200')\n",
      "('201606260200', '201606260300')\n",
      "('201606260300', '201606260400')\n",
      "('201606260400', '201606260500')\n",
      "('201606260500', '201606260600')\n",
      "('201606260600', '201606260700')\n",
      "('201606260700', '201606260800')\n",
      "('201606260800', '201606260900')\n",
      "('201606260900', '201606261000')\n",
      "('201606261000', '201606261100')\n",
      "('201606261100', '201606261200')\n",
      "('201606261200', '201606261300')\n",
      "('201606261300', '201606261400')\n",
      "('201606261400', '201606261500')\n",
      "('201606261500', '201606261600')\n",
      "('201606261600', '201606261700')\n",
      "('201606261700', '201606261800')\n",
      "('201606261800', '201606261900')\n",
      "('201606261900', '201606262000')\n",
      "('201606262000', '201606262100')\n"
     ]
    },
    {
     "data": {
      "text/plain": [
       "333"
      ]
     },
     "execution_count": 5,
     "metadata": {},
     "output_type": "execute_result"
    }
   ],
   "source": [
    "tweets = get_tweets('(istanbul OR turkey) vpn lang:en', '201606260000','201606291000')\n",
    "len(tweets)"
   ]
  },
  {
   "cell_type": "code",
   "execution_count": 6,
   "metadata": {
    "collapsed": false
   },
   "outputs": [],
   "source": [
    "data_raw = [t['body'] for t in tweets]"
   ]
  },
  {
   "cell_type": "code",
   "execution_count": null,
   "metadata": {
    "collapsed": true
   },
   "outputs": [],
   "source": [
    "for i in range(len(data_raw)):\n",
    "    try:\n",
    "        data_raw[i] = str(data_raw[i])\n",
    "    except:\n",
    "        pass\n",
    "    \n",
    "data_raw = list(set(data_raw))\n",
    "len(data_raw)"
   ]
  },
  {
   "cell_type": "code",
   "execution_count": 10,
   "metadata": {
    "collapsed": false
   },
   "outputs": [
    {
     "data": {
      "text/plain": [
       "56"
      ]
     },
     "execution_count": 10,
     "metadata": {},
     "output_type": "execute_result"
    }
   ],
   "source": [
    "data_raw = [d for d in data_raw if not d.startswith('RT @')]\n",
    "len(data_raw)"
   ]
  },
  {
   "cell_type": "code",
   "execution_count": 11,
   "metadata": {
    "collapsed": false
   },
   "outputs": [
    {
     "data": {
      "text/plain": [
       "[(u'in', 38),\n",
       " (u'to', 36),\n",
       " (u'VPN', 24),\n",
       " (u'Turkey', 18),\n",
       " (u'Twitter', 18),\n",
       " (u'and', 17),\n",
       " (u'is', 17),\n",
       " (u'a', 16),\n",
       " (u'the', 16),\n",
       " (u'without', 14)]"
      ]
     },
     "execution_count": 11,
     "metadata": {},
     "output_type": "execute_result"
    }
   ],
   "source": [
    "big_str = ' '.join(data_raw)\n",
    "words_cnt = Counter(big_str.split())\n",
    "words_cnt.most_common(10)"
   ]
  },
  {
   "cell_type": "code",
   "execution_count": 12,
   "metadata": {
    "collapsed": false
   },
   "outputs": [
    {
     "data": {
      "text/plain": [
       "56"
      ]
     },
     "execution_count": 12,
     "metadata": {},
     "output_type": "execute_result"
    }
   ],
   "source": [
    "data = list([clean_text(d) for d in data_raw])\n",
    "len(data)"
   ]
  },
  {
   "cell_type": "code",
   "execution_count": 13,
   "metadata": {
    "collapsed": false
   },
   "outputs": [
    {
     "name": "stdout",
     "output_type": "stream",
     "text": [
      "access twitter facebook without vpn( 6)\n",
      "-------------------------------------------------------------------\n",
      "* Istanbul attack: Since about 2am local time, difficult to access Twitter and Facebook without VPN in Turkey.\n",
      "* vpn'siz twitter ve facebook'a girilmiyor / Can't reach twitter or facebook without vpn. #istanbul\n",
      "* vpn'siz twitter ve facebook'a girilmiyor / Can't reach twitter or facebook without vpn. #istanbul\n",
      "\n",
      "reach twitter facebook without vpn( 6)\n",
      "-------------------------------------------------------------------\n",
      "* VPN use is required again to reach #twitter and #facebook in #istanbul - thank you @theTunnelBear\n",
      "* vpn'siz twitter ve facebook'a girilmiyor / Can't reach twitter or facebook without vpn. #istanbul\n",
      "* vpn'siz twitter ve facebook'a girilmiyor / Can't reach twitter or facebook without vpn. #istanbul\n",
      "\n",
      "twitter still blocked turkey( 3)\n",
      "-------------------------------------------------------------------\n",
      "* Twitter is still blocked in Turkey ... I use VPN to reach twitter ... #istanbulattack #stopterrorism\n",
      "* Twitter is still blocked in Turkey. I use VPN to reach twitter.\n",
      "* Twitter still blocked in Turkey. Nothing getting through without a VPN.\n",
      "\n"
     ]
    }
   ],
   "source": [
    "phrases = get_cluster_phrases(data)\n",
    "phrases = merge_close_phrases(phrases)\n",
    "phrases = sorted(phrases, key=lambda x: x['count'], reverse=True)\n",
    "for p in phrases[:5]:\n",
    "    print p['phrase'] + '( '+ str(p['count']) + ')' \n",
    "    print '-------------------------------------------------------------------'\n",
    "    for t in p['tweets'][:10]:\n",
    "        print '* ' + data_raw[t]\n",
    "    print ''"
   ]
  },
  {
   "cell_type": "code",
   "execution_count": null,
   "metadata": {
    "collapsed": false
   },
   "outputs": [],
   "source": [
    "d = [t['body'].lower() for t in tweets]"
   ]
  },
  {
   "cell_type": "code",
   "execution_count": null,
   "metadata": {
    "collapsed": false
   },
   "outputs": [],
   "source": [
    "len(list(set(d)))"
   ]
  }
 ],
 "metadata": {
  "kernelspec": {
   "display_name": "Python 2",
   "language": "python",
   "name": "python2"
  },
  "language_info": {
   "codemirror_mode": {
    "name": "ipython",
    "version": 2.0
   },
   "file_extension": ".py",
   "mimetype": "text/x-python",
   "name": "python",
   "nbconvert_exporter": "python",
   "pygments_lexer": "ipython2",
   "version": "2.7.12"
  }
 },
 "nbformat": 4,
 "nbformat_minor": 0
}