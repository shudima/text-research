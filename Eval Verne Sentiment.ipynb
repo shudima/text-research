{
 "cells": [
  {
   "cell_type": "markdown",
   "metadata": {},
   "source": [
    "# Imports "
   ]
  },
  {
   "cell_type": "code",
   "execution_count": 11,
   "metadata": {},
   "outputs": [],
   "source": [
    "from sklearn.externals import joblib\n",
    "import pandas as pd\n",
    "import json\n",
    "import random\n",
    "import numpy as np\n",
    "import os\n",
    "import re\n",
    "from sklearn.metrics import classification_report"
   ]
  },
  {
   "cell_type": "markdown",
   "metadata": {},
   "source": [
    "# Methods"
   ]
  },
  {
   "cell_type": "code",
   "execution_count": 7,
   "metadata": {},
   "outputs": [],
   "source": [
    "def clean_text(text):\n",
    "    new_text = text.lower()\n",
    "    new_text = re.sub(r'https://\\S+', 'URL_URL_URL', new_text)\n",
    "    new_text = re.sub(r'http://\\S+', 'URL_URL_URL', new_text)\n",
    "    new_text = re.sub(r'@\\S+', 'USER_MENTION_USER', new_text)\n",
    "    new_text = new_text.replace('rt','')\n",
    "    new_text = new_text.replace('&amp','')\n",
    "    new_text = new_text.replace('&amp','')\n",
    "    new_text = new_text.replace('amp','')\n",
    "    new_text = re.sub('[^a-zA-Z\\s]', '', new_text)\n",
    "    new_text = re.sub(r'\\b\\w{1}\\b', '', new_text)\n",
    "    new_text = re.sub(r'(.)\\1+', r'\\1\\1', new_text)\n",
    "    new_text = new_text.strip()\n",
    "\n",
    "    return new_text\n",
    "\n",
    "def map_sentiment_int(i):\n",
    "    i = int(i)\n",
    "    if i == 4: return 1\n",
    "    if i == 0: return -1\n",
    "    return 0\n",
    "\n",
    "def map_sentiment_float(f):\n",
    "    if f > 0.3: return 1\n",
    "    if f < -0.3: return -1\n",
    "    return 0"
   ]
  },
  {
   "cell_type": "markdown",
   "metadata": {},
   "source": [
    "# Eval"
   ]
  },
  {
   "cell_type": "code",
   "execution_count": 9,
   "metadata": {},
   "outputs": [],
   "source": [
    "df = pd.read_csv('/home/dima/Data/sentiment_manual_data_clean_test.csv')\n",
    "clf = joblib.load('/home/dima/Models/sentiment_log_reg.pkl')"
   ]
  },
  {
   "cell_type": "code",
   "execution_count": 13,
   "metadata": {},
   "outputs": [
    {
     "name": "stdout",
     "output_type": "stream",
     "text": [
      "             precision    recall  f1-score   support\n",
      "\n",
      "         -1       0.72      0.65      0.68      2337\n",
      "          0       0.45      0.22      0.30      2217\n",
      "          1       0.36      0.74      0.48      1269\n",
      "\n",
      "avg / total       0.53      0.50      0.49      5823\n",
      "\n"
     ]
    }
   ],
   "source": [
    "df['Text'] = df['Text'].apply(clean_text)\n",
    "proba = clf.predict_proba(df['Text'])\n",
    "scores = [p[1] - p[0] for p in proba]\n",
    "predicted = map(map_sentiment_float,scores)\n",
    "\n",
    "print classification_report(df['Sentiment'], predicted)"
   ]
  }
 ],
 "metadata": {
  "kernelspec": {
   "display_name": "Python 2",
   "language": "python",
   "name": "python2"
  },
  "language_info": {
   "codemirror_mode": {
    "name": "ipython",
    "version": 2
   },
   "file_extension": ".py",
   "mimetype": "text/x-python",
   "name": "python",
   "nbconvert_exporter": "python",
   "pygments_lexer": "ipython2",
   "version": "2.7.12"
  }
 },
 "nbformat": 4,
 "nbformat_minor": 0
}
